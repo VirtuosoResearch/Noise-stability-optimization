{
 "cells": [
  {
   "cell_type": "code",
   "execution_count": 1,
   "metadata": {},
   "outputs": [],
   "source": [
    "import matplotlib.pyplot as plt\n",
    "from matrix_sensing import *\n",
    "import numpy as np\n",
    "np.random.seed(0)"
   ]
  },
  {
   "cell_type": "code",
   "execution_count": 2,
   "metadata": {},
   "outputs": [],
   "source": [
    "# implement matrix sensing\n",
    "d = 100\n",
    "r = 5\n",
    "c = 5\n",
    "use_factorization = True"
   ]
  },
  {
   "cell_type": "code",
   "execution_count": 3,
   "metadata": {},
   "outputs": [],
   "source": [
    "# initialize variables, generate X, Ais, and labels y\n",
    "m = c*d*r\n",
    "U_true, X = make_low_rank_matrix(d, r)\n",
    "Ais = random_RIPs(X.shape[0], count=m)\n",
    "y_true = do_measurement(Ais, X, d)\n",
    "\n",
    "val_Ais = random_RIPs(X.shape[0], count=m)\n",
    "val_ytrue = do_measurement(val_Ais, X, d)"
   ]
  },
  {
   "cell_type": "code",
   "execution_count": 4,
   "metadata": {},
   "outputs": [],
   "source": [
    "# Intialize model related variables and objects\n",
    "init_scale = 1.00\n",
    "lr = 0.0025\n",
    "max_epochs_10_perc = 20\n",
    "U = np.random.randn(d, d) * init_scale"
   ]
  },
  {
   "cell_type": "code",
   "execution_count": 5,
   "metadata": {},
   "outputs": [
    {
     "name": "stdout",
     "output_type": "stream",
     "text": [
      "Epoch 0 Training 15.822456962132055 Validation 17.477192092538388 Distance 4.108293271847836\n"
     ]
    }
   ],
   "source": [
    "perturb = 0.01\n",
    "max_epochs = 1\n",
    "for epoch in range(0, max_epochs):\n",
    "    U = train_GD(Ais, y_true, U, lr, d)\n",
    "    y_pred = do_measurement(Ais, U @ U.T, d)\n",
    "    train_loss = mse_loss(y_true, y_pred)\n",
    "\n",
    "    # Print stats during training\n",
    "    if (epoch % max_epochs_10_perc == 0):\n",
    "        val_yhat = do_measurement(val_Ais, U @ U.T, d)\n",
    "        val_loss = mse_loss(val_ytrue, val_yhat)\n",
    "\n",
    "        diff = np.linalg.norm(X - U @ U.T, 'fro') / np.linalg.norm(X, 'fro')\n",
    "        print(\"Epoch\", epoch, \"Training\", train_loss, \"Validation\", val_loss, \"Distance\", diff)\n"
   ]
  },
  {
   "cell_type": "code",
   "execution_count": null,
   "metadata": {},
   "outputs": [],
   "source": []
  }
 ],
 "metadata": {
  "kernelspec": {
   "display_name": "Python 3",
   "language": "python",
   "name": "python3"
  },
  "language_info": {
   "codemirror_mode": {
    "name": "ipython",
    "version": 3
   },
   "file_extension": ".py",
   "mimetype": "text/x-python",
   "name": "python",
   "nbconvert_exporter": "python",
   "pygments_lexer": "ipython3",
   "version": "3.12.1"
  }
 },
 "nbformat": 4,
 "nbformat_minor": 2
}
